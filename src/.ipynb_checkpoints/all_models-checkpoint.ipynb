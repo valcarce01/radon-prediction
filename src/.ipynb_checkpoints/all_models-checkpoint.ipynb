{
 "cells": [
  {
   "cell_type": "code",
   "execution_count": null,
   "id": "4ee51a90",
   "metadata": {},
   "outputs": [],
   "source": [
    "from statsmodels.tsa.stattools import acf, pacf # computación de las correlaciones\n",
    "from statsmodels.tsa.arima.model import ARIMA   # estimación de modelos ARIMA\n",
    "from matplotlib.lines import Line2D             # para ajustar las leyendas en los plots\n",
    "from scipy.signal import correlate              # computación de las correlaciones entre señales\n",
    "import matplotlib.pyplot as plt                 # visualización de datos\n",
    "import tensorflow as tf                         # modelos de neuronas artificiales\n",
    "from scipy import stats                         # para estadística\n",
    "import pandas as pd                             # tratar con DataFrames\n",
    "import numpy as np                              # cálculo sobre matrices\n",
    "import itertools                                # combinatoria\n",
    "import datetime                                 # para parsear las fechas\n",
    "import tqdm                                     # para los bucles"
   ]
  },
  {
   "cell_type": "code",
   "execution_count": null,
   "id": "9469f6be",
   "metadata": {},
   "outputs": [],
   "source": [
    "df = pd.read_csv('data/[2021-06-03] - state.csv')               # lectura del csv\n",
    "df.time = pd.to_datetime(df['time'], unit='s', origin='unix')   # parseamos las fechas\n",
    "df = df.drop(columns = [\"time\", \"id\", \"sensor_id\", \"state_time\"])       # droppeamos las columnas sin información relevante\n",
    "df.state = (df.state == \"On\").astype(int)\n",
    "df.head()"
   ]
  },
  {
   "cell_type": "code",
   "execution_count": null,
   "id": "820cd38a",
   "metadata": {},
   "outputs": [],
   "source": [
    "df = df.iloc[36000:48000]\n",
    "df.head()"
   ]
  },
  {
   "cell_type": "code",
   "execution_count": null,
   "id": "a41fc66c",
   "metadata": {},
   "outputs": [],
   "source": [
    "df.radon.plot()"
   ]
  },
  {
   "cell_type": "code",
   "execution_count": null,
   "id": "4ecf7640",
   "metadata": {},
   "outputs": [],
   "source": [
    "def generate_windows(data, x_len, y_len):\n",
    "    \"\"\"\n",
    "    Construye una matriz de ventanas dados los siguientes argumentos:\n",
    "    + data: list or array\n",
    "    + x_len : longitud de la ventana que se usará para predecir\n",
    "    + y_len: tamaño del horizonte\n",
    "    \"\"\"\n",
    "    N = len(data) - (x_len + y_len) + 1\n",
    "    _data = np.zeros((N, (x_len + y_len)))\n",
    "    \n",
    "    for i in range(N):\n",
    "        _data[i,:] = data[i:(i+x_len+y_len)]\n",
    "    return _data"
   ]
  },
  {
   "cell_type": "code",
   "execution_count": null,
   "id": "f6c39e53",
   "metadata": {},
   "outputs": [],
   "source": [
    "def mix_data(data):\n",
    "    \"\"\"Devuelve la matriz formateada\"\"\"\n",
    "    complete = np.empty((list(data[\"radon\"].shape) + [len(data.keys())]))\n",
    "    keys = list(data.keys())\n",
    "    for i in range(len(keys)):\n",
    "        complete[:,:,i] = data[keys[i]]\n",
    "    return complete"
   ]
  },
  {
   "cell_type": "code",
   "execution_count": null,
   "id": "3e2fbb35",
   "metadata": {},
   "outputs": [],
   "source": [
    "df_normalizado = (df - df.min()) / (df.max() - df.min())\n",
    "df_normalizado.head()"
   ]
  },
  {
   "cell_type": "code",
   "execution_count": null,
   "id": "3b092e76",
   "metadata": {
    "scrolled": false
   },
   "outputs": [],
   "source": [
    "callback = tf.keras.callbacks.EarlyStopping(\n",
    "    monitor              = 'val_loss',\n",
    "    patience             = 30,\n",
    "    restore_best_weights = True\n",
    ")\n",
    "porcentaje_train = 0.9\n",
    "\n",
    "resultados = pd.DataFrame(\n",
    "    {i: [None]*20 for i in [25]}#[1, 5, 10, 15]}\n",
    ")\n",
    "\n",
    "cnt = 0\n",
    "\n",
    "for number_of_covariates in range(4):\n",
    "    for covariate_combination in itertools.combinations((\"state\", \"humidity\", \"pressure\", \"tvoc\"), \n",
    "                                                        number_of_covariates):\n",
    "        print(f\"EXECUTING OVER: {covariate_combination}\".center(100, \"*\"))\n",
    "        # ejecutamos para cada ventana\n",
    "        for window_size in [25]: #[1, 5, 10, 15]:\n",
    "            print(\"\\n\")\n",
    "            print(f\"EXECUTING {window_size} WINDOW SIZE\".center(100), \"-\")\n",
    "            print(\"\\n\")\n",
    "            ventanas = {i: generate_windows(df_normalizado[i], window_size, 1)\n",
    "                        for i in [\"radon\"] + list(covariate_combination) }\n",
    "            print(\"Ventanas computadas, construyendo modelo\")\n",
    "            \n",
    "            data = mix_data(ventanas)\n",
    "            N_total          = data.shape[0]\n",
    "            test             = data[int(porcentaje_train*N_total):, :, :]\n",
    "            data             = data[:int(porcentaje_train*N_total), :, :]\n",
    "            \n",
    "            model = tf.keras.models.Sequential(\n",
    "                [\n",
    "                    tf.keras.layers.InputLayer((window_size, len(ventanas.keys()))),\n",
    "                    tf.keras.layers.LSTM(window_size * 2),\n",
    "                    tf.keras.layers.Dense(16, activation = \"relu\"),\n",
    "                    tf.keras.layers.Dense(16, activation = \"relu\"),\n",
    "                    tf.keras.layers.Dense(1)\n",
    "                ],\n",
    "            )\n",
    "            \n",
    "            model.compile(\n",
    "                loss = tf.keras.losses.MeanSquaredError(),\n",
    "                metrics = tf.keras.metrics.RootMeanSquaredError(),\n",
    "                optimizer = tf.keras.optimizers.RMSprop()\n",
    "            )\n",
    "            \n",
    "            model.summary()\n",
    "            \n",
    "            model.fit(\n",
    "                x                = data[:, :window_size, :],\n",
    "                y                = data[:, window_size:, 0],\n",
    "                epochs           = 1_000,\n",
    "                shuffle          = False,\n",
    "                validation_split = 0.2, \n",
    "                callbacks        = [callback,],\n",
    "                verbose          = 0,\n",
    "            )\n",
    "            \n",
    "            # Modelo entrenado.\n",
    "            \n",
    "            # vamos a realizar las predicciones y reescalarlo\n",
    "            prediccion = model.predict(test[:, :window_size, :]) * (df.max().radon - df.min().radon) + df.min().radon\n",
    "            real       = test[:, window_size:, 0] * (df.max().radon - df.min().radon) + df.min().radon\n",
    "            \n",
    "            rmse_test = ( sum((prediccion - real) ** 2) / len(prediccion) ) ** (1/2)\n",
    "            resultados[window_size][cnt] = rmse_test \n",
    "            print(f\"Window {window_size}, covariates {covariate_combination}: {resultados[window_size][cnt]}\")\n",
    "        cnt += 1    \n",
    "        print(\"*\" * 100, \"\\n\"*2)"
   ]
  },
  {
   "cell_type": "code",
   "execution_count": null,
   "id": "f27e024b",
   "metadata": {},
   "outputs": [],
   "source": [
    "print(resultados[:15].to_latex())"
   ]
  },
  {
   "cell_type": "markdown",
   "id": "c88edbfe",
   "metadata": {},
   "source": [
    "# Ajuste fino del modelo con state: selección de neuronas"
   ]
  },
  {
   "cell_type": "code",
   "execution_count": null,
   "id": "5bb9b82f",
   "metadata": {},
   "outputs": [],
   "source": [
    "callback = tf.keras.callbacks.EarlyStopping(\n",
    "    monitor              = 'val_loss',\n",
    "    patience             = 30,\n",
    "    restore_best_weights = True\n",
    ")\n",
    "porcentaje_train = 0.9\n",
    "window_size = 15\n",
    "resultados = [None] * len([4, 8, 16, 32, 64])\n",
    "\n",
    "ventanas = {i: generate_windows(df_normalizado[i], 15, 1)\n",
    "            for i in [\"radon\", \"state\"] }\n",
    "print(\"Ventanas computadas, construyendo modelo\")\n",
    "\n",
    "data = mix_data(ventanas)\n",
    "N_total          = data.shape[0]\n",
    "test             = data[int(porcentaje_train*N_total):, :, :]\n",
    "data             = data[:int(porcentaje_train*N_total), :, :]\n",
    "\n",
    "for idx, n_hidden_units in enumerate([4, 8, 16, 32, 64]):\n",
    "    model = tf.keras.models.Sequential(\n",
    "        [\n",
    "            tf.keras.layers.InputLayer((15, 2)),\n",
    "            tf.keras.layers.LSTM(n_hidden_units),\n",
    "            tf.keras.layers.Dense(32, activation = \"relu\"),\n",
    "            tf.keras.layers.Dense(32, activation = \"relu\"),\n",
    "            tf.keras.layers.Dense(1)\n",
    "        ],\n",
    "    )\n",
    "\n",
    "    model.compile(\n",
    "        loss = tf.keras.losses.MeanSquaredError(),\n",
    "        metrics = tf.keras.metrics.RootMeanSquaredError(),\n",
    "        optimizer = tf.keras.optimizers.RMSprop()\n",
    "    )\n",
    "\n",
    "    model.summary()\n",
    "\n",
    "    model.fit(\n",
    "        x                = data[:, :15, :],\n",
    "        y                = data[:, 15:, 0],\n",
    "        epochs           = 1_000,\n",
    "        shuffle          = False,\n",
    "        validation_split = 0.2, \n",
    "        callbacks        = [callback,],\n",
    "        verbose          = 0,\n",
    "    )\n",
    "\n",
    "    # Modelo entrenado.\n",
    "\n",
    "    # vamos a realizar las predicciones y reescalarlo\n",
    "    prediccion = model.predict(test[:, :15, :]) * (df.max().radon - df.min().radon) + df.min().radon\n",
    "    real       = test[:, 15:, 0] * (df.max().radon - df.min().radon) + df.min().radon\n",
    "\n",
    "    rmse_test = ( sum((prediccion - real) ** 2) / len(prediccion) ) ** (1/2)\n",
    "    print(f\"RMSE con {n_hidden_units} unidades ocultas: {rmse_test}\")\n",
    "    resultados[idx] = rmse_test "
   ]
  },
  {
   "cell_type": "markdown",
   "id": "3eaefc20",
   "metadata": {},
   "source": [
    "## Ajuste final del modelo"
   ]
  },
  {
   "cell_type": "code",
   "execution_count": null,
   "id": "5beabfed",
   "metadata": {
    "scrolled": true
   },
   "outputs": [],
   "source": [
    "callback = tf.keras.callbacks.EarlyStopping(\n",
    "    monitor              = 'val_loss',\n",
    "    patience             = 30,\n",
    "    restore_best_weights = True\n",
    ")\n",
    "porcentaje_train = 0.9\n",
    "window_size = 15\n",
    "\n",
    "ventanas = {i: generate_windows(df_normalizado_[i], 15, 1)\n",
    "            for i in [\"radon\", \"state\"] }\n",
    "print(\"Ventanas computadas, construyendo modelo\")\n",
    "\n",
    "data = mix_data(ventanas)\n",
    "N_total          = data.shape[0]\n",
    "test             = data[int(porcentaje_train*N_total):, :, :]\n",
    "data             = data[:int(porcentaje_train*N_total), :, :]\n",
    "\n",
    "model = tf.keras.models.Sequential(\n",
    "    [\n",
    "        tf.keras.layers.InputLayer((15, 2)),\n",
    "        tf.keras.layers.LSTM(4),\n",
    "        tf.keras.layers.Dense(32, activation = \"relu\"),\n",
    "        tf.keras.layers.Dense(1)\n",
    "    ],\n",
    ")\n",
    "\n",
    "model.compile(\n",
    "    loss = tf.keras.losses.MeanSquaredError(),\n",
    "    metrics = tf.keras.metrics.RootMeanSquaredError(),\n",
    "    optimizer = tf.keras.optimizers.RMSprop()\n",
    ")\n",
    "\n",
    "model.summary()\n",
    "\n",
    "model.fit(\n",
    "    x                = data[:, :15, :],\n",
    "    y                = data[:, 15:, 0],\n",
    "    epochs           = 1_000,\n",
    "    shuffle          = False,\n",
    "    validation_split = 0.2, \n",
    "    callbacks        = [callback,],\n",
    "    verbose          = 0,\n",
    ")\n",
    "\n",
    "# Modelo entrenado.\n",
    "\n",
    "# vamos a realizar las predicciones y reescalarlo\n",
    "prediccion = model.predict(test[:, :15, :]) * (df.max().radon - df.min().radon) + df.min().radon\n",
    "real       = test[:, 15:, 0] * (df.max().radon - df.min().radon) + df.min().radon\n",
    "\n",
    "rmse_test = ( sum((prediccion - real) ** 2) / len(prediccion) ) ** (1/2)\n",
    "print(f\"RMSE con {n_hidden_units} unidades ocultas: {rmse_test}\")"
   ]
  },
  {
   "cell_type": "code",
   "execution_count": null,
   "id": "12348af7",
   "metadata": {},
   "outputs": [],
   "source": [
    "reconstruccion = pd.DataFrame(\n",
    "    {\n",
    "        \"pred\": [i[0] for i in prediccion],\n",
    "        \"real\": [i[0] for i in real]\n",
    "    }\n",
    ")"
   ]
  },
  {
   "cell_type": "code",
   "execution_count": null,
   "id": "8d54eb20",
   "metadata": {},
   "outputs": [],
   "source": [
    "reconstruccion.head()"
   ]
  },
  {
   "cell_type": "code",
   "execution_count": null,
   "id": "19994188",
   "metadata": {},
   "outputs": [],
   "source": [
    "abs(reconstruccion.pred - reconstruccion.real).mean()"
   ]
  },
  {
   "cell_type": "code",
   "execution_count": null,
   "id": "9c66c798",
   "metadata": {},
   "outputs": [],
   "source": [
    "reconstruccion.to_csv(\"data/reconstruccion_lstm_bueno.csv\", index = False)"
   ]
  },
  {
   "cell_type": "markdown",
   "id": "2aec2ad5",
   "metadata": {},
   "source": [
    "## precisión en otra época del año"
   ]
  },
  {
   "cell_type": "code",
   "execution_count": null,
   "id": "d968894f",
   "metadata": {},
   "outputs": [],
   "source": [
    "df_ = pd.read_csv('data/[2021-06-03] - state.csv')               # lectura del csv\n",
    "df_.time = pd.to_datetime(df_['time'], unit='s', origin='unix')   # parseamos las fechas\n",
    "df_ = df_.drop(columns = [\"time\", \"id\", \"sensor_id\", \"state_time\"])       # droppeamos las columnas sin información relevante\n",
    "df_.state = (df_.state == \"On\").astype(int)"
   ]
  },
  {
   "cell_type": "code",
   "execution_count": null,
   "id": "3a07c9ae",
   "metadata": {},
   "outputs": [],
   "source": [
    "df_ = df_.iloc[82400:82800]\n",
    "df_.head()"
   ]
  },
  {
   "cell_type": "code",
   "execution_count": null,
   "id": "afaa98a1",
   "metadata": {},
   "outputs": [],
   "source": [
    "df_normalizado_ = (df_ - df.min()) / (df.max() - df.min())\n",
    "df_normalizado_.head()"
   ]
  },
  {
   "cell_type": "code",
   "execution_count": null,
   "id": "5f879569",
   "metadata": {},
   "outputs": [],
   "source": [
    "ventanas = {i: generate_windows(df_normalizado_[i], 15, 1)\n",
    "            for i in [\"radon\", \"state\"] }\n",
    "\n",
    "data = mix_data(ventanas)\n",
    "N_total          = data.shape[0]\n",
    "test             = data[int(porcentaje_train*N_total):, :, :]\n",
    "data             = data[:int(porcentaje_train*N_total), :, :]"
   ]
  },
  {
   "cell_type": "code",
   "execution_count": null,
   "id": "f24b26b4",
   "metadata": {},
   "outputs": [],
   "source": [
    "prediccion = model.predict(data[:, :15, :]) * (df.max().radon - df.min().radon) + df.min().radon\n",
    "real       = data[:, 15:, 0] * (df.max().radon - df.min().radon) + df.min().radon"
   ]
  },
  {
   "cell_type": "code",
   "execution_count": null,
   "id": "604c7492",
   "metadata": {},
   "outputs": [],
   "source": [
    "( sum((prediccion - real) ** 2) / len(prediccion) ) ** (1/2)"
   ]
  },
  {
   "cell_type": "code",
   "execution_count": null,
   "id": "0cd73b0b",
   "metadata": {},
   "outputs": [],
   "source": [
    "reconstruccion = pd.DataFrame(\n",
    "    {\n",
    "        \"pred\": [i[0] for i in prediccion],\n",
    "        \"real\": [i[0] for i in real]\n",
    "    }\n",
    ")"
   ]
  },
  {
   "cell_type": "code",
   "execution_count": null,
   "id": "4157cde0",
   "metadata": {},
   "outputs": [],
   "source": [
    "reconstruccion.to_csv(\"data/reconstruccion_lstm_otra_epoca.csv\", index = False)"
   ]
  },
  {
   "cell_type": "code",
   "execution_count": null,
   "id": "09240a1f",
   "metadata": {},
   "outputs": [],
   "source": [
    "(reconstruccion.pred - reconstruccion.real).plot()"
   ]
  },
  {
   "cell_type": "code",
   "execution_count": null,
   "id": "8e73b6b0",
   "metadata": {},
   "outputs": [],
   "source": [
    "reconstruccion.plot()"
   ]
  },
  {
   "cell_type": "code",
   "execution_count": null,
   "id": "b4aacffc",
   "metadata": {},
   "outputs": [],
   "source": []
  }
 ],
 "metadata": {
  "kernelspec": {
   "display_name": "Python 3 (ipykernel)",
   "language": "python",
   "name": "python3"
  },
  "language_info": {
   "codemirror_mode": {
    "name": "ipython",
    "version": 3
   },
   "file_extension": ".py",
   "mimetype": "text/x-python",
   "name": "python",
   "nbconvert_exporter": "python",
   "pygments_lexer": "ipython3",
   "version": "3.9.7"
  }
 },
 "nbformat": 4,
 "nbformat_minor": 5
}
