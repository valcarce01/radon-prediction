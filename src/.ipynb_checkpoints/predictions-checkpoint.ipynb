{
 "cells": [
  {
   "cell_type": "code",
   "execution_count": 1,
   "id": "a8bb0c55",
   "metadata": {},
   "outputs": [
    {
     "name": "stderr",
     "output_type": "stream",
     "text": [
      "2022-02-22 19:34:25.263232: W tensorflow/stream_executor/platform/default/dso_loader.cc:64] Could not load dynamic library 'libcudart.so.11.0'; dlerror: libcudart.so.11.0: cannot open shared object file: No such file or directory\n",
      "2022-02-22 19:34:25.263253: I tensorflow/stream_executor/cuda/cudart_stub.cc:29] Ignore above cudart dlerror if you do not have a GPU set up on your machine.\n"
     ]
    }
   ],
   "source": [
    "import tensorflow as tf\n",
    "import numpy as np"
   ]
  },
  {
   "cell_type": "code",
   "execution_count": 62,
   "id": "518e10bb",
   "metadata": {},
   "outputs": [],
   "source": [
    "class Model:\n",
    "    radon_min = 42\n",
    "    radon_max = 2934\n",
    "    \n",
    "    def __init__(self, path_to_model:str = \"model.h5\"):\n",
    "        \"\"\"\n",
    "        Initializates the model to be able to predict.\n",
    "        \n",
    "        Params:\n",
    "        ======\n",
    "        path_to_model: str\n",
    "            path to the model, format .h5, defaults to \"model.h5\"\n",
    "        \"\"\"\n",
    "        self.model = tf.keras.models.load_model(path_to_model)\n",
    "        self.model.compile(run_eagerly = True)\n",
    "        \n",
    "    def _downscale(self, radon_level):\n",
    "        \"\"\"\n",
    "        Applies the normalization logic applied to the training sample\n",
    "        \"\"\"\n",
    "        return (radon_level - self.radon_min) / (self.radon_max - self.radon_min)\n",
    "    \n",
    "    def _upscale(self, radon_level):\n",
    "        \"\"\"\n",
    "        Upscales the standarized values to the radon Bq/m^3 standards\n",
    "        \"\"\"\n",
    "        return radon_level * (self.radon_max - self.radon_min) + self.radon_min\n",
    "    \n",
    "        \n",
    "    def predict(self, previous_radon, previous_state):\n",
    "        \"\"\"\n",
    "        Forecast one instance (10 minutes) given the previous 15 samples\n",
    "        of radon level and fan status\n",
    "        \n",
    "        Params:\n",
    "        ======\n",
    "        previous_radon: list or np.array\n",
    "            A list or array contaning exactly the last 15 samples of \n",
    "            radon measures.\n",
    "            \n",
    "        previous_state: list or np.array\n",
    "            A list or array contaning exactly the las 15 samples of \n",
    "            the ventilation status, \"0\" if turned off and \"1\" if on.\n",
    "            \n",
    "        Returns:\n",
    "        ======\n",
    "        The prediction in Bq/m^3\n",
    "        \"\"\"\n",
    "        assert len(previous_radon) == 15\n",
    "        assert len(previous_state) == 15\n",
    "        \n",
    "        previous_radon = np.array(list(map(self._downscale, previous_radon)))\n",
    "        previous_state = np.array(previous_state)\n",
    "        x = np.expand_dims(np.stack((previous_radon, previous_state), -1), 0)\n",
    "        y = self.model.predict(x)[0][0]\n",
    "        return self._upscale(y)"
   ]
  },
  {
   "cell_type": "code",
   "execution_count": 63,
   "id": "a656ef3b",
   "metadata": {},
   "outputs": [],
   "source": [
    "model = Model()"
   ]
  },
  {
   "cell_type": "code",
   "execution_count": 53,
   "id": "0b7f7774",
   "metadata": {},
   "outputs": [
    {
     "data": {
      "text/plain": [
       "145.24286"
      ]
     },
     "execution_count": 53,
     "metadata": {},
     "output_type": "execute_result"
    }
   ],
   "source": [
    "model.predict([*range(15)], [*range(15)])[0][0]"
   ]
  },
  {
   "cell_type": "code",
   "execution_count": 44,
   "id": "1b638b17",
   "metadata": {},
   "outputs": [],
   "source": [
    "import pandas as pd\n",
    "import matplotlib.pyplot as plt"
   ]
  },
  {
   "cell_type": "code",
   "execution_count": 45,
   "id": "c896de1d",
   "metadata": {},
   "outputs": [],
   "source": [
    "df = pd.read_csv(\"../data/radon-data.csv\")"
   ]
  },
  {
   "cell_type": "code",
   "execution_count": 46,
   "id": "85352a4a",
   "metadata": {},
   "outputs": [
    {
     "data": {
      "text/html": [
       "<div>\n",
       "<style scoped>\n",
       "    .dataframe tbody tr th:only-of-type {\n",
       "        vertical-align: middle;\n",
       "    }\n",
       "\n",
       "    .dataframe tbody tr th {\n",
       "        vertical-align: top;\n",
       "    }\n",
       "\n",
       "    .dataframe thead th {\n",
       "        text-align: right;\n",
       "    }\n",
       "</style>\n",
       "<table border=\"1\" class=\"dataframe\">\n",
       "  <thead>\n",
       "    <tr style=\"text-align: right;\">\n",
       "      <th></th>\n",
       "      <th>id</th>\n",
       "      <th>time</th>\n",
       "      <th>radon</th>\n",
       "      <th>temperature</th>\n",
       "      <th>humidity</th>\n",
       "      <th>pressure</th>\n",
       "      <th>tvoc</th>\n",
       "      <th>sensor_id</th>\n",
       "      <th>state</th>\n",
       "      <th>state_time</th>\n",
       "    </tr>\n",
       "  </thead>\n",
       "  <tbody>\n",
       "    <tr>\n",
       "      <th>0</th>\n",
       "      <td>21906</td>\n",
       "      <td>1569405062</td>\n",
       "      <td>202</td>\n",
       "      <td>25</td>\n",
       "      <td>50</td>\n",
       "      <td>1015</td>\n",
       "      <td>0</td>\n",
       "      <td>2</td>\n",
       "      <td>Off</td>\n",
       "      <td>1569404979</td>\n",
       "    </tr>\n",
       "    <tr>\n",
       "      <th>1</th>\n",
       "      <td>21907</td>\n",
       "      <td>1569405663</td>\n",
       "      <td>258</td>\n",
       "      <td>25</td>\n",
       "      <td>51</td>\n",
       "      <td>1015</td>\n",
       "      <td>0</td>\n",
       "      <td>2</td>\n",
       "      <td>On</td>\n",
       "      <td>1569405215</td>\n",
       "    </tr>\n",
       "    <tr>\n",
       "      <th>2</th>\n",
       "      <td>21908</td>\n",
       "      <td>1569406264</td>\n",
       "      <td>202</td>\n",
       "      <td>24</td>\n",
       "      <td>51</td>\n",
       "      <td>1015</td>\n",
       "      <td>0</td>\n",
       "      <td>2</td>\n",
       "      <td>Off</td>\n",
       "      <td>1569405671</td>\n",
       "    </tr>\n",
       "    <tr>\n",
       "      <th>3</th>\n",
       "      <td>21909</td>\n",
       "      <td>1569406865</td>\n",
       "      <td>182</td>\n",
       "      <td>24</td>\n",
       "      <td>51</td>\n",
       "      <td>1015</td>\n",
       "      <td>0</td>\n",
       "      <td>2</td>\n",
       "      <td>Off</td>\n",
       "      <td>1569406848</td>\n",
       "    </tr>\n",
       "    <tr>\n",
       "      <th>4</th>\n",
       "      <td>21910</td>\n",
       "      <td>1569407466</td>\n",
       "      <td>189</td>\n",
       "      <td>24</td>\n",
       "      <td>51</td>\n",
       "      <td>1015</td>\n",
       "      <td>0</td>\n",
       "      <td>2</td>\n",
       "      <td>Off</td>\n",
       "      <td>1569406866</td>\n",
       "    </tr>\n",
       "  </tbody>\n",
       "</table>\n",
       "</div>"
      ],
      "text/plain": [
       "      id        time  radon  temperature  humidity  pressure  tvoc  sensor_id  \\\n",
       "0  21906  1569405062    202           25        50      1015     0          2   \n",
       "1  21907  1569405663    258           25        51      1015     0          2   \n",
       "2  21908  1569406264    202           24        51      1015     0          2   \n",
       "3  21909  1569406865    182           24        51      1015     0          2   \n",
       "4  21910  1569407466    189           24        51      1015     0          2   \n",
       "\n",
       "  state  state_time  \n",
       "0   Off  1569404979  \n",
       "1    On  1569405215  \n",
       "2   Off  1569405671  \n",
       "3   Off  1569406848  \n",
       "4   Off  1569406866  "
      ]
     },
     "execution_count": 46,
     "metadata": {},
     "output_type": "execute_result"
    }
   ],
   "source": [
    "df.head()"
   ]
  },
  {
   "cell_type": "code",
   "execution_count": 47,
   "id": "849cf9fb",
   "metadata": {},
   "outputs": [],
   "source": [
    "df.state = df.state == \"On\""
   ]
  },
  {
   "cell_type": "code",
   "execution_count": 50,
   "id": "5843716d",
   "metadata": {},
   "outputs": [],
   "source": [
    "df.state = df.state.astype(int)"
   ]
  },
  {
   "cell_type": "code",
   "execution_count": 51,
   "id": "560fb1d3",
   "metadata": {},
   "outputs": [
    {
     "data": {
      "text/html": [
       "<div>\n",
       "<style scoped>\n",
       "    .dataframe tbody tr th:only-of-type {\n",
       "        vertical-align: middle;\n",
       "    }\n",
       "\n",
       "    .dataframe tbody tr th {\n",
       "        vertical-align: top;\n",
       "    }\n",
       "\n",
       "    .dataframe thead th {\n",
       "        text-align: right;\n",
       "    }\n",
       "</style>\n",
       "<table border=\"1\" class=\"dataframe\">\n",
       "  <thead>\n",
       "    <tr style=\"text-align: right;\">\n",
       "      <th></th>\n",
       "      <th>id</th>\n",
       "      <th>time</th>\n",
       "      <th>radon</th>\n",
       "      <th>temperature</th>\n",
       "      <th>humidity</th>\n",
       "      <th>pressure</th>\n",
       "      <th>tvoc</th>\n",
       "      <th>sensor_id</th>\n",
       "      <th>state</th>\n",
       "      <th>state_time</th>\n",
       "    </tr>\n",
       "  </thead>\n",
       "  <tbody>\n",
       "    <tr>\n",
       "      <th>0</th>\n",
       "      <td>21906</td>\n",
       "      <td>1569405062</td>\n",
       "      <td>202</td>\n",
       "      <td>25</td>\n",
       "      <td>50</td>\n",
       "      <td>1015</td>\n",
       "      <td>0</td>\n",
       "      <td>2</td>\n",
       "      <td>0</td>\n",
       "      <td>1569404979</td>\n",
       "    </tr>\n",
       "    <tr>\n",
       "      <th>1</th>\n",
       "      <td>21907</td>\n",
       "      <td>1569405663</td>\n",
       "      <td>258</td>\n",
       "      <td>25</td>\n",
       "      <td>51</td>\n",
       "      <td>1015</td>\n",
       "      <td>0</td>\n",
       "      <td>2</td>\n",
       "      <td>1</td>\n",
       "      <td>1569405215</td>\n",
       "    </tr>\n",
       "    <tr>\n",
       "      <th>2</th>\n",
       "      <td>21908</td>\n",
       "      <td>1569406264</td>\n",
       "      <td>202</td>\n",
       "      <td>24</td>\n",
       "      <td>51</td>\n",
       "      <td>1015</td>\n",
       "      <td>0</td>\n",
       "      <td>2</td>\n",
       "      <td>0</td>\n",
       "      <td>1569405671</td>\n",
       "    </tr>\n",
       "    <tr>\n",
       "      <th>3</th>\n",
       "      <td>21909</td>\n",
       "      <td>1569406865</td>\n",
       "      <td>182</td>\n",
       "      <td>24</td>\n",
       "      <td>51</td>\n",
       "      <td>1015</td>\n",
       "      <td>0</td>\n",
       "      <td>2</td>\n",
       "      <td>0</td>\n",
       "      <td>1569406848</td>\n",
       "    </tr>\n",
       "    <tr>\n",
       "      <th>4</th>\n",
       "      <td>21910</td>\n",
       "      <td>1569407466</td>\n",
       "      <td>189</td>\n",
       "      <td>24</td>\n",
       "      <td>51</td>\n",
       "      <td>1015</td>\n",
       "      <td>0</td>\n",
       "      <td>2</td>\n",
       "      <td>0</td>\n",
       "      <td>1569406866</td>\n",
       "    </tr>\n",
       "  </tbody>\n",
       "</table>\n",
       "</div>"
      ],
      "text/plain": [
       "      id        time  radon  temperature  humidity  pressure  tvoc  sensor_id  \\\n",
       "0  21906  1569405062    202           25        50      1015     0          2   \n",
       "1  21907  1569405663    258           25        51      1015     0          2   \n",
       "2  21908  1569406264    202           24        51      1015     0          2   \n",
       "3  21909  1569406865    182           24        51      1015     0          2   \n",
       "4  21910  1569407466    189           24        51      1015     0          2   \n",
       "\n",
       "   state  state_time  \n",
       "0      0  1569404979  \n",
       "1      1  1569405215  \n",
       "2      0  1569405671  \n",
       "3      0  1569406848  \n",
       "4      0  1569406866  "
      ]
     },
     "execution_count": 51,
     "metadata": {},
     "output_type": "execute_result"
    }
   ],
   "source": [
    "df.head()"
   ]
  },
  {
   "cell_type": "code",
   "execution_count": 65,
   "id": "8c81def9",
   "metadata": {},
   "outputs": [],
   "source": [
    "real, predicted = [], []\n",
    "for i in range(1000, 1250):\n",
    "    predicted.append(model.predict(df.radon[i-15:i], df.state[i-15:i]))\n",
    "    real.append(df.radon[i])"
   ]
  },
  {
   "cell_type": "code",
   "execution_count": 66,
   "id": "b4963da2",
   "metadata": {},
   "outputs": [
    {
     "data": {
      "image/png": "[encoded data removed]",
      "text/plain": [
       "<Figure size 1080x360 with 1 Axes>"
      ]
     },
     "metadata": {
      "needs_background": "light"
     },
     "output_type": "display_data"
    }
   ],
   "source": [
    "plt.figure(figsize = (15, 5))\n",
    "plt.plot(predicted, label = \"predicted\")\n",
    "plt.plot(real, label = \"real\")\n",
    "plt.legend()\n",
    "plt.show()"
   ]
  },
  {
   "cell_type": "code",
   "execution_count": null,
   "id": "8f47b46c",
   "metadata": {},
   "outputs": [],
   "source": []
  }
 ],
 "metadata": {
  "kernelspec": {
   "display_name": "Python 3 (ipykernel)",
   "language": "python",
   "name": "python3"
  },
  "language_info": {
   "codemirror_mode": {
    "name": "ipython",
    "version": 3
   },
   "file_extension": ".py",
   "mimetype": "text/x-python",
   "name": "python",
   "nbconvert_exporter": "python",
   "pygments_lexer": "ipython3",
   "version": "3.10.2"
  }
 },
 "nbformat": 4,
 "nbformat_minor": 5
}
